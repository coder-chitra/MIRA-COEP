{
 "cells": [
  {
   "cell_type": "code",
   "execution_count": 2,
   "id": "43f48d5f-32ac-458f-af4c-cd0bb93833db",
   "metadata": {},
   "outputs": [],
   "source": [
    "MIRA_API_KEY=\"sb-14887d710e94d19063448b39c2945d9f\"\n"
   ]
  },
  {
   "cell_type": "code",
   "execution_count": 4,
   "id": "5f4a3b32-ef5e-422e-b166-2d4588291940",
   "metadata": {},
   "outputs": [
    {
     "name": "stdout",
     "output_type": "stream",
     "text": [
      "done\n"
     ]
    }
   ],
   "source": [
    "from dotenv import load_dotenv\n",
    "from mira_sdk import MiraClient\n",
    "import os\n",
    "\n",
    "load_dotenv()\n",
    "client = MiraClient(config={\"API_KEY\": os.getenv(\"MIRA_API_KEY\")})\n"
   ]
  }
 ],
 "metadata": {
  "kernelspec": {
   "display_name": "Python 3 (ipykernel)",
   "language": "python",
   "name": "python3"
  },
  "language_info": {
   "codemirror_mode": {
    "name": "ipython",
    "version": 3
   },
   "file_extension": ".py",
   "mimetype": "text/x-python",
   "name": "python",
   "nbconvert_exporter": "python",
   "pygments_lexer": "ipython3",
   "version": "3.10.0"
  }
 },
 "nbformat": 4,
 "nbformat_minor": 5
}
