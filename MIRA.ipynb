{
 "cells": [
  {
   "cell_type": "code",
   "execution_count": 2,
   "id": "43f48d5f-32ac-458f-af4c-cd0bb93833db",
   "metadata": {},
   "outputs": [],
   "source": [
    "MIRA_API_KEY=\"sb-14887d710e94d19063448b39c2945d9f\"\n"
   ]
  },
  {
   "cell_type": "code",
   "execution_count": 4,
   "id": "5f4a3b32-ef5e-422e-b166-2d4588291940",
   "metadata": {},
   "outputs": [
    {
     "name": "stdout",
     "output_type": "stream",
     "text": [
      "done\n"
     ]
    }
   ],
   "source": [
    "from dotenv import load_dotenv\n",
    "from mira_sdk import MiraClient\n",
    "import os\n",
    "\n",
    "load_dotenv()\n",
    "client = MiraClient(config={\"API_KEY\": os.getenv(\"MIRA_API_KEY\")}) \n"
   ]
  },
  {
   "cell_type": "code",
   "execution_count": 5,
   "id": "47c4d315-39a4-4437-b0c1-e2545c5a7c4d",
   "metadata": {},
   "outputs": [
    {
     "ename": "NameError",
     "evalue": "name 'flow_name' is not defined",
     "output_type": "error",
     "traceback": [
      "\u001b[1;31m---------------------------------------------------------------------------\u001b[0m",
      "\u001b[1;31mNameError\u001b[0m                                 Traceback (most recent call last)",
      "Cell \u001b[1;32mIn[5], line 1\u001b[0m\n\u001b[1;32m----> 1\u001b[0m response \u001b[38;5;241m=\u001b[39m client\u001b[38;5;241m.\u001b[39mflow\u001b[38;5;241m.\u001b[39mexecute(\u001b[43mflow_name\u001b[49m, input_data)\n\u001b[0;32m      2\u001b[0m \u001b[38;5;28mprint\u001b[39m(\u001b[38;5;124m\"\u001b[39m\u001b[38;5;124mRaw Response:\u001b[39m\u001b[38;5;124m\"\u001b[39m, response)\n",
      "\u001b[1;31mNameError\u001b[0m: name 'flow_name' is not defined"
     ]
    }
   ],
   "source": [
    "response = client.flow.execute(flow_name, input_data)\n",
    "print(\"Raw Response:\", response)\n"
   ]
  }
 ],
 "metadata": {
  "kernelspec": {
   "display_name": "Python 3 (ipykernel)",
   "language": "python",
   "name": "python3"
  },
  "language_info": {
   "codemirror_mode": {
    "name": "ipython",
    "version": 3
   },
   "file_extension": ".py",
   "mimetype": "text/x-python",
   "name": "python",
   "nbconvert_exporter": "python",
   "pygments_lexer": "ipython3",
   "version": "3.10.0"
  }
 },
 "nbformat": 4,
 "nbformat_minor": 5
}
